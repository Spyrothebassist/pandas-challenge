{
 "cells": [
  {
   "cell_type": "markdown",
   "metadata": {},
   "source": [
    "### Note\n",
    "* Instructions have been included for each segment. You do not have to follow them exactly, but they are included to help you think through the steps."
   ]
  },
  {
   "cell_type": "code",
   "execution_count": 369,
   "metadata": {},
   "outputs": [
    {
     "output_type": "execute_result",
     "data": {
      "text/plain": [
       "     Purchase ID             SN  Age  Gender  Item ID  \\\n",
       "0              0        Lisim78   20    Male      108   \n",
       "1              1    Lisovynya38   40    Male      143   \n",
       "2              2     Ithergue48   24    Male       92   \n",
       "3              3  Chamassasya86   24    Male      100   \n",
       "4              4      Iskosia90   23    Male      131   \n",
       "..           ...            ...  ...     ...      ...   \n",
       "775          775     Aethedru70   21  Female       60   \n",
       "776          776         Iral74   21    Male      164   \n",
       "777          777     Yathecal72   20    Male       67   \n",
       "778          778        Sisur91    7    Male       92   \n",
       "779          779      Ennrian78   24    Male       50   \n",
       "\n",
       "                                     Item Name  Price  \n",
       "0    Extraction, Quickblade Of Trembling Hands   3.53  \n",
       "1                            Frenzied Scimitar   1.56  \n",
       "2                                 Final Critic   4.88  \n",
       "3                                  Blindscythe   3.27  \n",
       "4                                         Fury   1.44  \n",
       "..                                         ...    ...  \n",
       "775                                       Wolf   3.54  \n",
       "776                           Exiled Doomblade   1.63  \n",
       "777      Celeste, Incarnation of the Corrupted   3.46  \n",
       "778                               Final Critic   4.19  \n",
       "779                                       Dawn   4.60  \n",
       "\n",
       "[780 rows x 7 columns]"
      ],
      "text/html": "<div>\n<style scoped>\n    .dataframe tbody tr th:only-of-type {\n        vertical-align: middle;\n    }\n\n    .dataframe tbody tr th {\n        vertical-align: top;\n    }\n\n    .dataframe thead th {\n        text-align: right;\n    }\n</style>\n<table border=\"1\" class=\"dataframe\">\n  <thead>\n    <tr style=\"text-align: right;\">\n      <th></th>\n      <th>Purchase ID</th>\n      <th>SN</th>\n      <th>Age</th>\n      <th>Gender</th>\n      <th>Item ID</th>\n      <th>Item Name</th>\n      <th>Price</th>\n    </tr>\n  </thead>\n  <tbody>\n    <tr>\n      <th>0</th>\n      <td>0</td>\n      <td>Lisim78</td>\n      <td>20</td>\n      <td>Male</td>\n      <td>108</td>\n      <td>Extraction, Quickblade Of Trembling Hands</td>\n      <td>3.53</td>\n    </tr>\n    <tr>\n      <th>1</th>\n      <td>1</td>\n      <td>Lisovynya38</td>\n      <td>40</td>\n      <td>Male</td>\n      <td>143</td>\n      <td>Frenzied Scimitar</td>\n      <td>1.56</td>\n    </tr>\n    <tr>\n      <th>2</th>\n      <td>2</td>\n      <td>Ithergue48</td>\n      <td>24</td>\n      <td>Male</td>\n      <td>92</td>\n      <td>Final Critic</td>\n      <td>4.88</td>\n    </tr>\n    <tr>\n      <th>3</th>\n      <td>3</td>\n      <td>Chamassasya86</td>\n      <td>24</td>\n      <td>Male</td>\n      <td>100</td>\n      <td>Blindscythe</td>\n      <td>3.27</td>\n    </tr>\n    <tr>\n      <th>4</th>\n      <td>4</td>\n      <td>Iskosia90</td>\n      <td>23</td>\n      <td>Male</td>\n      <td>131</td>\n      <td>Fury</td>\n      <td>1.44</td>\n    </tr>\n    <tr>\n      <th>...</th>\n      <td>...</td>\n      <td>...</td>\n      <td>...</td>\n      <td>...</td>\n      <td>...</td>\n      <td>...</td>\n      <td>...</td>\n    </tr>\n    <tr>\n      <th>775</th>\n      <td>775</td>\n      <td>Aethedru70</td>\n      <td>21</td>\n      <td>Female</td>\n      <td>60</td>\n      <td>Wolf</td>\n      <td>3.54</td>\n    </tr>\n    <tr>\n      <th>776</th>\n      <td>776</td>\n      <td>Iral74</td>\n      <td>21</td>\n      <td>Male</td>\n      <td>164</td>\n      <td>Exiled Doomblade</td>\n      <td>1.63</td>\n    </tr>\n    <tr>\n      <th>777</th>\n      <td>777</td>\n      <td>Yathecal72</td>\n      <td>20</td>\n      <td>Male</td>\n      <td>67</td>\n      <td>Celeste, Incarnation of the Corrupted</td>\n      <td>3.46</td>\n    </tr>\n    <tr>\n      <th>778</th>\n      <td>778</td>\n      <td>Sisur91</td>\n      <td>7</td>\n      <td>Male</td>\n      <td>92</td>\n      <td>Final Critic</td>\n      <td>4.19</td>\n    </tr>\n    <tr>\n      <th>779</th>\n      <td>779</td>\n      <td>Ennrian78</td>\n      <td>24</td>\n      <td>Male</td>\n      <td>50</td>\n      <td>Dawn</td>\n      <td>4.60</td>\n    </tr>\n  </tbody>\n</table>\n<p>780 rows × 7 columns</p>\n</div>"
     },
     "metadata": {},
     "execution_count": 369
    }
   ],
   "source": [
    "\n",
    "import pandas as pd\n",
    "\n",
    "file_to_load = \"Resources/purchase_data.csv\"\n",
    "\n",
    "main_df = pd.read_csv(file_to_load)\n",
    "\n",
    "main_df"
   ]
  },
  {
   "cell_type": "markdown",
   "metadata": {},
   "source": [
    "[## Player Count"
   ]
  },
  {
   "cell_type": "markdown",
   "metadata": {},
   "source": [
    "* Display the total number of players\n"
   ]
  },
  {
   "cell_type": "code",
   "execution_count": 378,
   "metadata": {},
   "outputs": [
    {
     "output_type": "execute_result",
     "data": {
      "text/plain": [
       "   Total Number of Players\n",
       "0                      576"
      ],
      "text/html": "<div>\n<style scoped>\n    .dataframe tbody tr th:only-of-type {\n        vertical-align: middle;\n    }\n\n    .dataframe tbody tr th {\n        vertical-align: top;\n    }\n\n    .dataframe thead th {\n        text-align: right;\n    }\n</style>\n<table border=\"1\" class=\"dataframe\">\n  <thead>\n    <tr style=\"text-align: right;\">\n      <th></th>\n      <th>Total Number of Players</th>\n    </tr>\n  </thead>\n  <tbody>\n    <tr>\n      <th>0</th>\n      <td>576</td>\n    </tr>\n  </tbody>\n</table>\n</div>"
     },
     "metadata": {},
     "execution_count": 378
    }
   ],
   "source": [
    "total_players = len(main_df[\"SN\"].value_counts())\n",
    "player_count_df = pd.DataFrame({\"Total Number of Players\":[total_players]})\n",
    "player_count_df"
   ]
  },
  {
   "cell_type": "markdown",
   "metadata": {},
   "source": [
    "## Purchasing Analysis (Total)"
   ]
  },
  {
   "cell_type": "markdown",
   "metadata": {},
   "source": [
    "* Run basic calculations to obtain number of unique items, average price, etc.\n",
    "\n",
    "\n",
    "* Create a summary data frame to hold the results\n",
    "\n",
    "\n",
    "* Optional: give the displayed data cleaner formatting\n",
    "\n",
    "\n",
    "* Display the summary data frame\n"
   ]
  },
  {
   "cell_type": "code",
   "execution_count": 381,
   "metadata": {
    "scrolled": true
   },
   "outputs": [
    {
     "output_type": "execute_result",
     "data": {
      "text/plain": [
       "   Unique Items Average Purchase Price  Total Purchases Total Revenue\n",
       "0           179                  $3.05              780     $2,379.77"
      ],
      "text/html": "<div>\n<style scoped>\n    .dataframe tbody tr th:only-of-type {\n        vertical-align: middle;\n    }\n\n    .dataframe tbody tr th {\n        vertical-align: top;\n    }\n\n    .dataframe thead th {\n        text-align: right;\n    }\n</style>\n<table border=\"1\" class=\"dataframe\">\n  <thead>\n    <tr style=\"text-align: right;\">\n      <th></th>\n      <th>Unique Items</th>\n      <th>Average Purchase Price</th>\n      <th>Total Purchases</th>\n      <th>Total Revenue</th>\n    </tr>\n  </thead>\n  <tbody>\n    <tr>\n      <th>0</th>\n      <td>179</td>\n      <td>$3.05</td>\n      <td>780</td>\n      <td>$2,379.77</td>\n    </tr>\n  </tbody>\n</table>\n</div>"
     },
     "metadata": {},
     "execution_count": 381
    }
   ],
   "source": [
    "\n",
    "unique_items = len(main_df[\"Item ID\"].value_counts())\n",
    "price_mean = round(main_df[\"Price\"].mean(),2)\n",
    "total_purchases = len(main_df[\"Purchase ID\"].value_counts())\n",
    "revenue = main_df[\"Price\"].sum()\n",
    "\n",
    "purchasing_analysis_df = pd.DataFrame({\"Unique Items\":[unique_items], \"Average Purchase Price\":[price_mean], \"Total Purchases\":[total_purchases],\"Total Revenue\":[revenue]})\n",
    "\n",
    "purchasing_analysis_df[\"Total Revenue\"] = purchasing_analysis_df[\"Total Revenue\"].map(\"${:,.2f}\".format)\n",
    "purchasing_analysis_df[\"Average Purchase Price\"] = purchasing_analysis_df[\"Average Purchase Price\"].map(\"${:,.2f}\".format)\n",
    "\n",
    "purchasing_analysis_df"
   ]
  },
  {
   "cell_type": "markdown",
   "metadata": {},
   "source": [
    "## Gender Demographics"
   ]
  },
  {
   "cell_type": "markdown",
   "metadata": {},
   "source": [
    "* Percentage and Count of Male Players\n",
    "\n",
    "\n",
    "* Percentage and Count of Female Players\n",
    "\n",
    "\n",
    "* Percentage and Count of Other / Non-Disclosed\n",
    "\n",
    "\n"
   ]
  },
  {
   "cell_type": "code",
   "execution_count": 386,
   "metadata": {},
   "outputs": [
    {
     "output_type": "execute_result",
     "data": {
      "text/plain": [
       "                      Percentage of Players  Total Count\n",
       "Male                                 84.03%          484\n",
       "Female                               14.06%           81\n",
       "Other / Non-Disclosed                 1.91%           11"
      ],
      "text/html": "<div>\n<style scoped>\n    .dataframe tbody tr th:only-of-type {\n        vertical-align: middle;\n    }\n\n    .dataframe tbody tr th {\n        vertical-align: top;\n    }\n\n    .dataframe thead th {\n        text-align: right;\n    }\n</style>\n<table border=\"1\" class=\"dataframe\">\n  <thead>\n    <tr style=\"text-align: right;\">\n      <th></th>\n      <th>Percentage of Players</th>\n      <th>Total Count</th>\n    </tr>\n  </thead>\n  <tbody>\n    <tr>\n      <th>Male</th>\n      <td>84.03%</td>\n      <td>484</td>\n    </tr>\n    <tr>\n      <th>Female</th>\n      <td>14.06%</td>\n      <td>81</td>\n    </tr>\n    <tr>\n      <th>Other / Non-Disclosed</th>\n      <td>1.91%</td>\n      <td>11</td>\n    </tr>\n  </tbody>\n</table>\n</div>"
     },
     "metadata": {},
     "execution_count": 386
    }
   ],
   "source": [
    "\n",
    "gender_unique_df = main_df.drop_duplicates(subset='SN')\n",
    "\n",
    "gender_count = gender_unique_df[\"Gender\"].value_counts()\n",
    "gender_perc = round((gender_count / total_players) * 100,2)\n",
    "\n",
    "gender_demo = pd.DataFrame({\"Percentage of Players\": gender_perc, \"Total Count\": gender_count})\n",
    "\n",
    "gender_demo[\"Percentage of Players\"] = gender_demo[\"Percentage of Players\"].map(\"{:,.2f}%\".format)\n",
    "\n",
    "gender_demo"
   ]
  },
  {
   "cell_type": "markdown",
   "metadata": {},
   "source": [
    "\n",
    "## Purchasing Analysis (Gender)"
   ]
  },
  {
   "cell_type": "markdown",
   "metadata": {},
   "source": [
    "* Run basic calculations to obtain purchase count, avg. purchase price, avg. purchase total per person etc. by gender\n",
    "\n",
    "\n",
    "\n",
    "\n",
    "* Create a summary data frame to hold the results\n",
    "\n",
    "\n",
    "* Optional: give the displayed data cleaner formatting\n",
    "\n",
    "\n",
    "* Display the summary data frame"
   ]
  },
  {
   "cell_type": "code",
   "execution_count": 390,
   "metadata": {},
   "outputs": [
    {
     "output_type": "execute_result",
     "data": {
      "text/plain": [
       "                       Purchase Count Average Purchase Price  \\\n",
       "Gender                                                         \n",
       "Female                            113                  $3.20   \n",
       "Male                              652                  $3.02   \n",
       "Other / Non-Disclosed              15                  $3.35   \n",
       "\n",
       "                      Total Purchase Value Avg Total Purchase  \n",
       "Gender                                                         \n",
       "Female                             $361.94              $4.47  \n",
       "Male                             $1,967.64              $4.07  \n",
       "Other / Non-Disclosed               $50.19              $4.56  "
      ],
      "text/html": "<div>\n<style scoped>\n    .dataframe tbody tr th:only-of-type {\n        vertical-align: middle;\n    }\n\n    .dataframe tbody tr th {\n        vertical-align: top;\n    }\n\n    .dataframe thead th {\n        text-align: right;\n    }\n</style>\n<table border=\"1\" class=\"dataframe\">\n  <thead>\n    <tr style=\"text-align: right;\">\n      <th></th>\n      <th>Purchase Count</th>\n      <th>Average Purchase Price</th>\n      <th>Total Purchase Value</th>\n      <th>Avg Total Purchase</th>\n    </tr>\n    <tr>\n      <th>Gender</th>\n      <th></th>\n      <th></th>\n      <th></th>\n      <th></th>\n    </tr>\n  </thead>\n  <tbody>\n    <tr>\n      <th>Female</th>\n      <td>113</td>\n      <td>$3.20</td>\n      <td>$361.94</td>\n      <td>$4.47</td>\n    </tr>\n    <tr>\n      <th>Male</th>\n      <td>652</td>\n      <td>$3.02</td>\n      <td>$1,967.64</td>\n      <td>$4.07</td>\n    </tr>\n    <tr>\n      <th>Other / Non-Disclosed</th>\n      <td>15</td>\n      <td>$3.35</td>\n      <td>$50.19</td>\n      <td>$4.56</td>\n    </tr>\n  </tbody>\n</table>\n</div>"
     },
     "metadata": {},
     "execution_count": 390
    }
   ],
   "source": [
    "grouped_gender_purchase_df = main_df.groupby(\"Gender\")\n",
    "\n",
    "grouped_gender_new = pd.DataFrame(grouped_gender_purchase_df[\"Purchase ID\"].count())\n",
    "\n",
    "grouped_gender_new[\"Average Purchase Price\"] = grouped_gender_purchase_df[\"Price\"].mean()\n",
    "grouped_gender_new[\"Total Purchase Value\"] = grouped_gender_purchase_df[\"Price\"].sum()\n",
    "grouped_gender_new[\"Avg Total Purchase\"] = grouped_gender_purchase_df[\"Price\"].sum() / gender_count\n",
    "\n",
    "grouped_gender_new = grouped_gender_new.rename(columns={\"Purchase ID\":\"Purchase Count\"})\n",
    "\n",
    "grouped_gender_new[\"Average Purchase Price\"] = grouped_gender_new[\"Average Purchase Price\"].map(\"${:,.2f}\".format)\n",
    "grouped_gender_new[\"Total Purchase Value\"] = grouped_gender_new[\"Total Purchase Value\"].map(\"${:,.2f}\".format)\n",
    "grouped_gender_new[\"Avg Total Purchase\"] = grouped_gender_new[\"Avg Total Purchase\"].map(\"${:,.2f}\".format)\n",
    "\n",
    "grouped_gender_new"
   ]
  },
  {
   "cell_type": "markdown",
   "metadata": {},
   "source": [
    "## Age Demographics"
   ]
  },
  {
   "cell_type": "markdown",
   "metadata": {},
   "source": [
    "* Establish bins for ages\n",
    "\n",
    "\n",
    "* Categorize the existing players using the age bins. Hint: use pd.cut()\n",
    "\n",
    "\n",
    "* Calculate the numbers and percentages by age group\n",
    "\n",
    "\n",
    "* Create a summary data frame to hold the results\n",
    "\n",
    "\n",
    "* Optional: round the percentage column to two decimal points\n",
    "\n",
    "\n",
    "* Display Age Demographics Table\n"
   ]
  },
  {
   "cell_type": "code",
   "execution_count": 406,
   "metadata": {},
   "outputs": [
    {
     "output_type": "execute_result",
     "data": {
      "text/plain": [
       "            Count Percentage of Total\n",
       "Age Groups                           \n",
       "<10            24               4.17%\n",
       "10-14          41               7.12%\n",
       "15-19         150              26.04%\n",
       "20-24         232              40.28%\n",
       "25-29          59              10.24%\n",
       "30-34          37               6.42%\n",
       "35-39          26               4.51%\n",
       "40+             7               1.22%"
      ],
      "text/html": "<div>\n<style scoped>\n    .dataframe tbody tr th:only-of-type {\n        vertical-align: middle;\n    }\n\n    .dataframe tbody tr th {\n        vertical-align: top;\n    }\n\n    .dataframe thead th {\n        text-align: right;\n    }\n</style>\n<table border=\"1\" class=\"dataframe\">\n  <thead>\n    <tr style=\"text-align: right;\">\n      <th></th>\n      <th>Count</th>\n      <th>Percentage of Total</th>\n    </tr>\n    <tr>\n      <th>Age Groups</th>\n      <th></th>\n      <th></th>\n    </tr>\n  </thead>\n  <tbody>\n    <tr>\n      <th>&lt;10</th>\n      <td>24</td>\n      <td>4.17%</td>\n    </tr>\n    <tr>\n      <th>10-14</th>\n      <td>41</td>\n      <td>7.12%</td>\n    </tr>\n    <tr>\n      <th>15-19</th>\n      <td>150</td>\n      <td>26.04%</td>\n    </tr>\n    <tr>\n      <th>20-24</th>\n      <td>232</td>\n      <td>40.28%</td>\n    </tr>\n    <tr>\n      <th>25-29</th>\n      <td>59</td>\n      <td>10.24%</td>\n    </tr>\n    <tr>\n      <th>30-34</th>\n      <td>37</td>\n      <td>6.42%</td>\n    </tr>\n    <tr>\n      <th>35-39</th>\n      <td>26</td>\n      <td>4.51%</td>\n    </tr>\n    <tr>\n      <th>40+</th>\n      <td>7</td>\n      <td>1.22%</td>\n    </tr>\n  </tbody>\n</table>\n</div>"
     },
     "metadata": {},
     "execution_count": 406
    }
   ],
   "source": [
    "\n",
    "bins = [0, 10, 15, 20, 25, 30, 35, 40, 100]\n",
    "ages = [\"<10\", \"10-14\", \"15-19\", \"20-24\", \"25-29\", \"30-34\", \"35-39\", \"40+\"]\n",
    "\n",
    "gender_unique_df[\"Age Groups\"] = pd.cut(gender_unique_df[\"Age\"].astype(float), bins, labels=ages)\n",
    "grouped_age = gender_unique_df.groupby(\"Age Groups\")\n",
    "grouped_age_df = grouped_age.count()\n",
    "grouped_age_df = pd.DataFrame(grouped_age_df[\"Age\"])\n",
    "\n",
    "grouped_age_percent_df = (grouped_age_df / total_players) * 100\n",
    "grouped_age_df[\"Age Percent\"] = grouped_age_percent_df\n",
    "\n",
    "grouped_age_df = grouped_age_df.rename(columns={\"Age\": \"Count\", \"Age Percent\":\"Percentage of Total\"})\n",
    "grouped_age_df[\"Percentage of Total\"] = grouped_age_df[\"Percentage of Total\"].map(\"{:,.2f}%\".format)\n",
    "\n",
    "grouped_age_df\n"
   ]
  },
  {
   "cell_type": "markdown",
   "metadata": {},
   "source": [
    "## Purchasing Analysis (Age)"
   ]
  },
  {
   "cell_type": "markdown",
   "metadata": {},
   "source": [
    "* Bin the purchase_data data frame by age\n",
    "\n",
    "\n",
    "* Run basic calculations to obtain purchase count, avg. purchase price, avg. purchase total per person etc. in the table below\n",
    "\n",
    "\n",
    "* Create a summary data frame to hold the results\n",
    "\n",
    "\n",
    "* Optional: give the displayed data cleaner formatting\n",
    "\n",
    "\n",
    "* Display the summary data frame"
   ]
  },
  {
   "cell_type": "code",
   "execution_count": 435,
   "metadata": {},
   "outputs": [
    {
     "output_type": "execute_result",
     "data": {
      "text/plain": [
       "           Purchase Count Average Purchase Price Total Purchase Value  \\\n",
       "Age Group                                                               \n",
       "<10                    32                  $3.40              $108.96   \n",
       "10-14                  54                  $2.90              $156.60   \n",
       "15-19                 200                  $3.11              $621.56   \n",
       "20-24                 325                  $3.02              $981.64   \n",
       "25-29                  77                  $2.88              $221.42   \n",
       "30-34                  52                  $2.99              $155.71   \n",
       "35-39                  33                  $3.40              $112.35   \n",
       "40+                     7                  $3.08               $21.53   \n",
       "\n",
       "          Avg Total Purchase per Person  \n",
       "Age Group                                \n",
       "<10                               $0.19  \n",
       "10-14                             $0.27  \n",
       "15-19                             $1.08  \n",
       "20-24                             $1.70  \n",
       "25-29                             $0.38  \n",
       "30-34                             $0.27  \n",
       "35-39                             $0.20  \n",
       "40+                               $0.04  "
      ],
      "text/html": "<div>\n<style scoped>\n    .dataframe tbody tr th:only-of-type {\n        vertical-align: middle;\n    }\n\n    .dataframe tbody tr th {\n        vertical-align: top;\n    }\n\n    .dataframe thead th {\n        text-align: right;\n    }\n</style>\n<table border=\"1\" class=\"dataframe\">\n  <thead>\n    <tr style=\"text-align: right;\">\n      <th></th>\n      <th>Purchase Count</th>\n      <th>Average Purchase Price</th>\n      <th>Total Purchase Value</th>\n      <th>Avg Total Purchase per Person</th>\n    </tr>\n    <tr>\n      <th>Age Group</th>\n      <th></th>\n      <th></th>\n      <th></th>\n      <th></th>\n    </tr>\n  </thead>\n  <tbody>\n    <tr>\n      <th>&lt;10</th>\n      <td>32</td>\n      <td>$3.40</td>\n      <td>$108.96</td>\n      <td>$0.19</td>\n    </tr>\n    <tr>\n      <th>10-14</th>\n      <td>54</td>\n      <td>$2.90</td>\n      <td>$156.60</td>\n      <td>$0.27</td>\n    </tr>\n    <tr>\n      <th>15-19</th>\n      <td>200</td>\n      <td>$3.11</td>\n      <td>$621.56</td>\n      <td>$1.08</td>\n    </tr>\n    <tr>\n      <th>20-24</th>\n      <td>325</td>\n      <td>$3.02</td>\n      <td>$981.64</td>\n      <td>$1.70</td>\n    </tr>\n    <tr>\n      <th>25-29</th>\n      <td>77</td>\n      <td>$2.88</td>\n      <td>$221.42</td>\n      <td>$0.38</td>\n    </tr>\n    <tr>\n      <th>30-34</th>\n      <td>52</td>\n      <td>$2.99</td>\n      <td>$155.71</td>\n      <td>$0.27</td>\n    </tr>\n    <tr>\n      <th>35-39</th>\n      <td>33</td>\n      <td>$3.40</td>\n      <td>$112.35</td>\n      <td>$0.20</td>\n    </tr>\n    <tr>\n      <th>40+</th>\n      <td>7</td>\n      <td>$3.08</td>\n      <td>$21.53</td>\n      <td>$0.04</td>\n    </tr>\n  </tbody>\n</table>\n</div>"
     },
     "metadata": {},
     "execution_count": 435
    }
   ],
   "source": [
    "age_ranges_df = main_df.copy()\n",
    "\n",
    "age_ranges_df[\"Age Group\"] = pd.cut(age_ranges_df[\"Age\"].astype(float), bins, labels=ages)\n",
    "age_ranges_grouped = age_ranges_df.groupby(\"Age Group\")\n",
    "age_ranges_grouped_df = age_ranges_grouped.count()\n",
    "age_ranges_grouped_df = pd.DataFrame(age_ranges_grouped[\"Purchase ID\"])\n",
    "\n",
    "age_ranges_grouped_df.rename(columns={\"Purchase ID\":\"Purchase Count\"},inplace=True)\n",
    "\n",
    "purchase_counts = age_ranges_grouped[\"Price\"].count()\n",
    "average_prices = round(age_ranges_grouped[\"Price\"].mean(), 2)\n",
    "total_spent = round(age_ranges_grouped[\"Price\"].sum(), 2)\n",
    "spending_per_person = round(total_spent/total_players, 2)\n",
    "\n",
    "purchasing_analysis_age = pd.DataFrame({\"Purchase Count\":purchase_counts, \"Average Purchase Price\":average_prices, \"Total Purchase Value\":total_spent, \"Avg Total Purchase per Person\":spending_per_person})\n",
    "\n",
    "purchasing_analysis_age[\"Average Purchase Price\"] = purchasing_analysis_age[\"Average Purchase Price\"].map(\"${:,.2f}\".format)\n",
    "purchasing_analysis_age[\"Total Purchase Value\"] = purchasing_analysis_age[\"Total Purchase Value\"].map(\"${:,.2f}\".format)\n",
    "purchasing_analysis_age[\"Avg Total Purchase per Person\"] = purchasing_analysis_age[\"Avg Total Purchase per Person\"].map(\"${:,.2f}\".format)\n",
    "\n",
    "purchasing_analysis_age"
   ]
  },
  {
   "cell_type": "markdown",
   "metadata": {},
   "source": [
    "## Top Spenders"
   ]
  },
  {
   "cell_type": "markdown",
   "metadata": {},
   "source": [
    "* Run basic calculations to obtain the results in the table below\n",
    "\n",
    "\n",
    "* Create a summary data frame to hold the results\n",
    "\n",
    "\n",
    "* Sort the total purchase value column in descending order\n",
    "\n",
    "\n",
    "* Optional: give the displayed data cleaner formatting\n",
    "\n",
    "\n",
    "* Display a preview of the summary data frame\n",
    "\n"
   ]
  },
  {
   "cell_type": "code",
   "execution_count": 417,
   "metadata": {},
   "outputs": [
    {
     "output_type": "execute_result",
     "data": {
      "text/plain": [
       "             Purchase Count Average Purchase Price Total Purchase Value\n",
       "SN                                                                     \n",
       "Lisosia93                 5                  $3.79               $18.96\n",
       "Idastidru52               4                  $3.86               $15.45\n",
       "Chamjask73                3                  $4.61               $13.83\n",
       "Iral74                    4                  $3.40               $13.62\n",
       "Iskadarya95               3                  $4.37               $13.10"
      ],
      "text/html": "<div>\n<style scoped>\n    .dataframe tbody tr th:only-of-type {\n        vertical-align: middle;\n    }\n\n    .dataframe tbody tr th {\n        vertical-align: top;\n    }\n\n    .dataframe thead th {\n        text-align: right;\n    }\n</style>\n<table border=\"1\" class=\"dataframe\">\n  <thead>\n    <tr style=\"text-align: right;\">\n      <th></th>\n      <th>Purchase Count</th>\n      <th>Average Purchase Price</th>\n      <th>Total Purchase Value</th>\n    </tr>\n    <tr>\n      <th>SN</th>\n      <th></th>\n      <th></th>\n      <th></th>\n    </tr>\n  </thead>\n  <tbody>\n    <tr>\n      <th>Lisosia93</th>\n      <td>5</td>\n      <td>$3.79</td>\n      <td>$18.96</td>\n    </tr>\n    <tr>\n      <th>Idastidru52</th>\n      <td>4</td>\n      <td>$3.86</td>\n      <td>$15.45</td>\n    </tr>\n    <tr>\n      <th>Chamjask73</th>\n      <td>3</td>\n      <td>$4.61</td>\n      <td>$13.83</td>\n    </tr>\n    <tr>\n      <th>Iral74</th>\n      <td>4</td>\n      <td>$3.40</td>\n      <td>$13.62</td>\n    </tr>\n    <tr>\n      <th>Iskadarya95</th>\n      <td>3</td>\n      <td>$4.37</td>\n      <td>$13.10</td>\n    </tr>\n  </tbody>\n</table>\n</div>"
     },
     "metadata": {},
     "execution_count": 417
    }
   ],
   "source": [
    "\n",
    "count_per_SN = main_df.groupby(\"SN\")[\"Price\"].count()\n",
    "count_per_SN_df = pd.DataFrame(count_per_SN)\n",
    "\n",
    "price_per_SN_mean = main_df.groupby(\"SN\")[\"Price\"].mean()\n",
    "count_per_SN_df[\"Average Purchase Price\"] = price_per_SN_mean\n",
    "count_per_SN_df[\"Total Purchase Value\"] = count_per_SN * price_per_SN_mean\n",
    "\n",
    "count_per_SN_df.rename(columns={\"Price\":\"Purchase Count\"},inplace=True)\n",
    "count_per_SN_df = count_per_SN_df.sort_values(by=[\"Total Purchase Value\"],ascending=False)\n",
    "count_per_SN_df[\"Average Purchase Price\"] = count_per_SN_df[\"Average Purchase Price\"].map(\"${:,.2f}\".format)\n",
    "count_per_SN_df[\"Total Purchase Value\"] = count_per_SN_df[\"Total Purchase Value\"].map(\"${:,.2f}\".format)\n",
    "\n",
    "count_per_SN_df.head()"
   ]
  },
  {
   "cell_type": "markdown",
   "metadata": {},
   "source": [
    "## Most Popular Items"
   ]
  },
  {
   "cell_type": "markdown",
   "metadata": {},
   "source": [
    "* Retrieve the Item ID, Item Name, and Item Price columns\n",
    "\n",
    "\n",
    "* Group by Item ID and Item Name. Perform calculations to obtain purchase count, item price, and total purchase value\n",
    "\n",
    "\n",
    "* Create a summary data frame to hold the results\n",
    "\n",
    "\n",
    "* Sort the purchase count column in descending order\n",
    "\n",
    "\n",
    "* Optional: give the displayed data cleaner formatting\n",
    "\n",
    "\n",
    "* Display a preview of the summary data frame\n",
    "\n"
   ]
  },
  {
   "cell_type": "code",
   "execution_count": 420,
   "metadata": {},
   "outputs": [
    {
     "output_type": "execute_result",
     "data": {
      "text/plain": [
       "                                                      Purchase Count  \\\n",
       "Item ID Item Name                                                      \n",
       "92      Final Critic                                              13   \n",
       "178     Oathbreaker, Last Hope of the Breaking Storm              12   \n",
       "145     Fiery Glass Crusader                                       9   \n",
       "132     Persuasion                                                 9   \n",
       "108     Extraction, Quickblade Of Trembling Hands                  9   \n",
       "82      Nirvana                                                    9   \n",
       "75      Brutality Ivory Warmace                                    8   \n",
       "103     Singed Scalpel                                             8   \n",
       "34      Retribution Axe                                            8   \n",
       "37      Shadow Strike, Glory of Ending Hope                        8   \n",
       "\n",
       "                                                     Purchase Price  \\\n",
       "Item ID Item Name                                                     \n",
       "92      Final Critic                                         $59.99   \n",
       "178     Oathbreaker, Last Hope of the Breaking Storm         $50.76   \n",
       "145     Fiery Glass Crusader                                 $41.22   \n",
       "132     Persuasion                                           $28.99   \n",
       "108     Extraction, Quickblade Of Trembling Hands            $31.77   \n",
       "82      Nirvana                                              $44.10   \n",
       "75      Brutality Ivory Warmace                              $19.36   \n",
       "103     Singed Scalpel                                       $34.80   \n",
       "34      Retribution Axe                                      $17.76   \n",
       "37      Shadow Strike, Glory of Ending Hope                  $25.28   \n",
       "\n",
       "                                                     Total Purchase Value  \n",
       "Item ID Item Name                                                          \n",
       "92      Final Critic                                              $779.87  \n",
       "178     Oathbreaker, Last Hope of the Breaking Storm              $609.12  \n",
       "145     Fiery Glass Crusader                                      $370.98  \n",
       "132     Persuasion                                                $260.91  \n",
       "108     Extraction, Quickblade Of Trembling Hands                 $285.93  \n",
       "82      Nirvana                                                   $396.90  \n",
       "75      Brutality Ivory Warmace                                   $154.88  \n",
       "103     Singed Scalpel                                            $278.40  \n",
       "34      Retribution Axe                                           $142.08  \n",
       "37      Shadow Strike, Glory of Ending Hope                       $202.24  "
      ],
      "text/html": "<div>\n<style scoped>\n    .dataframe tbody tr th:only-of-type {\n        vertical-align: middle;\n    }\n\n    .dataframe tbody tr th {\n        vertical-align: top;\n    }\n\n    .dataframe thead th {\n        text-align: right;\n    }\n</style>\n<table border=\"1\" class=\"dataframe\">\n  <thead>\n    <tr style=\"text-align: right;\">\n      <th></th>\n      <th></th>\n      <th>Purchase Count</th>\n      <th>Purchase Price</th>\n      <th>Total Purchase Value</th>\n    </tr>\n    <tr>\n      <th>Item ID</th>\n      <th>Item Name</th>\n      <th></th>\n      <th></th>\n      <th></th>\n    </tr>\n  </thead>\n  <tbody>\n    <tr>\n      <th>92</th>\n      <th>Final Critic</th>\n      <td>13</td>\n      <td>$59.99</td>\n      <td>$779.87</td>\n    </tr>\n    <tr>\n      <th>178</th>\n      <th>Oathbreaker, Last Hope of the Breaking Storm</th>\n      <td>12</td>\n      <td>$50.76</td>\n      <td>$609.12</td>\n    </tr>\n    <tr>\n      <th>145</th>\n      <th>Fiery Glass Crusader</th>\n      <td>9</td>\n      <td>$41.22</td>\n      <td>$370.98</td>\n    </tr>\n    <tr>\n      <th>132</th>\n      <th>Persuasion</th>\n      <td>9</td>\n      <td>$28.99</td>\n      <td>$260.91</td>\n    </tr>\n    <tr>\n      <th>108</th>\n      <th>Extraction, Quickblade Of Trembling Hands</th>\n      <td>9</td>\n      <td>$31.77</td>\n      <td>$285.93</td>\n    </tr>\n    <tr>\n      <th>82</th>\n      <th>Nirvana</th>\n      <td>9</td>\n      <td>$44.10</td>\n      <td>$396.90</td>\n    </tr>\n    <tr>\n      <th>75</th>\n      <th>Brutality Ivory Warmace</th>\n      <td>8</td>\n      <td>$19.36</td>\n      <td>$154.88</td>\n    </tr>\n    <tr>\n      <th>103</th>\n      <th>Singed Scalpel</th>\n      <td>8</td>\n      <td>$34.80</td>\n      <td>$278.40</td>\n    </tr>\n    <tr>\n      <th>34</th>\n      <th>Retribution Axe</th>\n      <td>8</td>\n      <td>$17.76</td>\n      <td>$142.08</td>\n    </tr>\n    <tr>\n      <th>37</th>\n      <th>Shadow Strike, Glory of Ending Hope</th>\n      <td>8</td>\n      <td>$25.28</td>\n      <td>$202.24</td>\n    </tr>\n  </tbody>\n</table>\n</div>"
     },
     "metadata": {},
     "execution_count": 420
    }
   ],
   "source": [
    "pop = main_df.filter(['Item ID','Item Name','Purchase ID','Price'])\n",
    "pop_group = pop.groupby(['Item ID','Item Name'])\n",
    "\n",
    "pop_df = pd.DataFrame(pop_group['Purchase ID'].count()) \n",
    "pop_df = pop_df.rename(columns={\"Purchase ID\":\"Purchase Count\"})\n",
    "pop_df[\"Purchase Price\"] = pop_group[\"Price\"].sum()\n",
    "\n",
    "pop_purchase_count = pop_df[\"Purchase Count\"]\n",
    "pop_purchase_price = pop_df[\"Purchase Price\"]\n",
    "\n",
    "pop_df[\"Total Purchase Value\"] = pop_purchase_count * pop_purchase_price\n",
    "\n",
    "pop_sorted_purchase_df = pop_df.sort_values(by=[\"Purchase Count\"],ascending=False)\n",
    "\n",
    "pop_sorted_purchase_df[\"Purchase Price\"] = pop_sorted_purchase_df[\"Purchase Price\"].map(\"${:,.2f}\".format)\n",
    "pop_sorted_purchase_df[\"Total Purchase Value\"] = pop_sorted_purchase_df[\"Total Purchase Value\"].map(\"${:,.2f}\".format)\n",
    "\n",
    "pop_sorted_purchase_df.head(10)"
   ]
  },
  {
   "cell_type": "markdown",
   "metadata": {},
   "source": [
    "## Most Profitable Items"
   ]
  },
  {
   "cell_type": "markdown",
   "metadata": {},
   "source": [
    "* Sort the above table by total purchase value in descending order\n",
    "\n",
    "\n",
    "* Optional: give the displayed data cleaner formatting\n",
    "\n",
    "\n",
    "* Display a preview of the data frame\n",
    "\n"
   ]
  },
  {
   "cell_type": "code",
   "execution_count": 438,
   "metadata": {
    "scrolled": true
   },
   "outputs": [
    {
     "output_type": "execute_result",
     "data": {
      "text/plain": [
       "                                                      Purchase Count  \\\n",
       "Item ID Item Name                                                      \n",
       "92      Final Critic                                              13   \n",
       "178     Oathbreaker, Last Hope of the Breaking Storm              12   \n",
       "82      Nirvana                                                    9   \n",
       "145     Fiery Glass Crusader                                       9   \n",
       "103     Singed Scalpel                                             8   \n",
       "59      Lightning, Etcher of the King                              8   \n",
       "108     Extraction, Quickblade Of Trembling Hands                  9   \n",
       "78      Glimmer, Ender of the Moon                                 7   \n",
       "72      Winter's Bite                                              8   \n",
       "132     Persuasion                                                 9   \n",
       "\n",
       "                                                     Purchase Price  \\\n",
       "Item ID Item Name                                                     \n",
       "92      Final Critic                                         $59.99   \n",
       "178     Oathbreaker, Last Hope of the Breaking Storm         $50.76   \n",
       "82      Nirvana                                              $44.10   \n",
       "145     Fiery Glass Crusader                                 $41.22   \n",
       "103     Singed Scalpel                                       $34.80   \n",
       "59      Lightning, Etcher of the King                        $33.84   \n",
       "108     Extraction, Quickblade Of Trembling Hands            $31.77   \n",
       "78      Glimmer, Ender of the Moon                           $30.80   \n",
       "72      Winter's Bite                                        $30.16   \n",
       "132     Persuasion                                           $28.99   \n",
       "\n",
       "                                                     Total Purchase Value  \n",
       "Item ID Item Name                                                          \n",
       "92      Final Critic                                              $779.87  \n",
       "178     Oathbreaker, Last Hope of the Breaking Storm              $609.12  \n",
       "82      Nirvana                                                   $396.90  \n",
       "145     Fiery Glass Crusader                                      $370.98  \n",
       "103     Singed Scalpel                                            $278.40  \n",
       "59      Lightning, Etcher of the King                             $270.72  \n",
       "108     Extraction, Quickblade Of Trembling Hands                 $285.93  \n",
       "78      Glimmer, Ender of the Moon                                $215.60  \n",
       "72      Winter's Bite                                             $241.28  \n",
       "132     Persuasion                                                $260.91  "
      ],
      "text/html": "<div>\n<style scoped>\n    .dataframe tbody tr th:only-of-type {\n        vertical-align: middle;\n    }\n\n    .dataframe tbody tr th {\n        vertical-align: top;\n    }\n\n    .dataframe thead th {\n        text-align: right;\n    }\n</style>\n<table border=\"1\" class=\"dataframe\">\n  <thead>\n    <tr style=\"text-align: right;\">\n      <th></th>\n      <th></th>\n      <th>Purchase Count</th>\n      <th>Purchase Price</th>\n      <th>Total Purchase Value</th>\n    </tr>\n    <tr>\n      <th>Item ID</th>\n      <th>Item Name</th>\n      <th></th>\n      <th></th>\n      <th></th>\n    </tr>\n  </thead>\n  <tbody>\n    <tr>\n      <th>92</th>\n      <th>Final Critic</th>\n      <td>13</td>\n      <td>$59.99</td>\n      <td>$779.87</td>\n    </tr>\n    <tr>\n      <th>178</th>\n      <th>Oathbreaker, Last Hope of the Breaking Storm</th>\n      <td>12</td>\n      <td>$50.76</td>\n      <td>$609.12</td>\n    </tr>\n    <tr>\n      <th>82</th>\n      <th>Nirvana</th>\n      <td>9</td>\n      <td>$44.10</td>\n      <td>$396.90</td>\n    </tr>\n    <tr>\n      <th>145</th>\n      <th>Fiery Glass Crusader</th>\n      <td>9</td>\n      <td>$41.22</td>\n      <td>$370.98</td>\n    </tr>\n    <tr>\n      <th>103</th>\n      <th>Singed Scalpel</th>\n      <td>8</td>\n      <td>$34.80</td>\n      <td>$278.40</td>\n    </tr>\n    <tr>\n      <th>59</th>\n      <th>Lightning, Etcher of the King</th>\n      <td>8</td>\n      <td>$33.84</td>\n      <td>$270.72</td>\n    </tr>\n    <tr>\n      <th>108</th>\n      <th>Extraction, Quickblade Of Trembling Hands</th>\n      <td>9</td>\n      <td>$31.77</td>\n      <td>$285.93</td>\n    </tr>\n    <tr>\n      <th>78</th>\n      <th>Glimmer, Ender of the Moon</th>\n      <td>7</td>\n      <td>$30.80</td>\n      <td>$215.60</td>\n    </tr>\n    <tr>\n      <th>72</th>\n      <th>Winter's Bite</th>\n      <td>8</td>\n      <td>$30.16</td>\n      <td>$241.28</td>\n    </tr>\n    <tr>\n      <th>132</th>\n      <th>Persuasion</th>\n      <td>9</td>\n      <td>$28.99</td>\n      <td>$260.91</td>\n    </tr>\n  </tbody>\n</table>\n</div>"
     },
     "metadata": {},
     "execution_count": 438
    }
   ],
   "source": [
    "pop_sorted_price_df = pop_df.sort_values(by=[\"Purchase Price\"],ascending=False)\n",
    "\n",
    "pop_sorted_price_df[\"Purchase Price\"] = pop_sorted_price_df[\"Purchase Price\"].map(\"${:,.2f}\".format)\n",
    "pop_sorted_price_df[\"Total Purchase Value\"] = pop_sorted_price_df[\"Total Purchase Value\"].map(\"${:,.2f}\".format)\n",
    "\n",
    "pop_sorted_price_df.head(10)"
   ]
  },
  {
   "cell_type": "code",
   "execution_count": null,
   "metadata": {},
   "outputs": [],
   "source": []
  }
 ],
 "metadata": {
  "anaconda-cloud": {},
  "kernel_info": {
   "name": "python3"
  },
  "kernelspec": {
   "name": "python3",
   "display_name": "Python 3.8.5 64-bit (conda)",
   "metadata": {
    "interpreter": {
     "hash": "42a5aeadb626e9fab306cc11d7880aebf2727abe172c58f891e2dedde345f7e9"
    }
   }
  },
  "language_info": {
   "codemirror_mode": {
    "name": "ipython",
    "version": 3
   },
   "file_extension": ".py",
   "mimetype": "text/x-python",
   "name": "python",
   "nbconvert_exporter": "python",
   "pygments_lexer": "ipython3",
   "version": "3.8.5-final"
  },
  "latex_envs": {
   "LaTeX_envs_menu_present": true,
   "autoclose": false,
   "autocomplete": true,
   "bibliofile": "biblio.bib",
   "cite_by": "apalike",
   "current_citInitial": 1,
   "eqLabelWithNumbers": true,
   "eqNumInitial": 1,
   "hotkeys": {
    "equation": "Ctrl-E",
    "itemize": "Ctrl-I"
   },
   "labels_anchors": false,
   "latex_user_defs": false,
   "report_style_numbering": false,
   "user_envs_cfg": false
  },
  "nteract": {
   "version": "0.2.0"
  }
 },
 "nbformat": 4,
 "nbformat_minor": 2
}